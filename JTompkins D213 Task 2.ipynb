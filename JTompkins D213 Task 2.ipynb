{
 "cells": [
  {
   "cell_type": "markdown",
   "id": "c8f49e93",
   "metadata": {},
   "source": [
    "# **Jordan Tompkins**\n",
    "\n",
    "# **WGU D213, Advanced Data Analytics**\n",
    "\n",
    "# **Task 2**"
   ]
  },
  {
   "cell_type": "markdown",
   "id": "a220dc81",
   "metadata": {},
   "source": [
    "# A1, Research Question: \n",
    "\n",
    "Can we predict an Amazon user's sentiment as posititive or negative by using previous reviews from other's?"
   ]
  },
  {
   "cell_type": "markdown",
   "id": "7ad78bc7",
   "metadata": {},
   "source": [
    "# A2, Objectives or Goals:\n",
    "\n",
    "One of the main goals of this data analysis is to attempt to predict how a user might feel about a certain product. This prediction will be based off the word choices of the user. Being able to predict how a user might feel about a certain product based on the wording that they use can be extremely helpful when it comes to understanding both the products and customers"
   ]
  },
  {
   "cell_type": "markdown",
   "id": "3af7af72",
   "metadata": {},
   "source": [
    "# A3, Prescribed Network:\n",
    "\n",
    "The type of neural network that will be trained to produe useful predictions on text sequences on this dataset in this analysis is a Recurrent Neural Netword (RNN). A RNN is an artificial neural network that uses sequential data or time series data and is commonly used for problems such as language translation, natural language processing, etc. They will take information from prior inputs to influence the current input and output, where the output depends on prior elements of the sequence. (\"What is recurrent nerual networks\", n.d)"
   ]
  },
  {
   "cell_type": "markdown",
   "id": "5c7e67f7",
   "metadata": {},
   "source": [
    "# B1, Data Exploration"
   ]
  },
  {
   "cell_type": "code",
   "execution_count": 1,
   "id": "26dd0410",
   "metadata": {},
   "outputs": [],
   "source": [
    "import numpy as np\n",
    "import pandas as pd\n",
    "import matplotlib.pyplot as plt\n",
    "%matplotlib inline\n",
    "import seaborn as sns\n",
    "import tensorflow as tf\n",
    "from tensorflow.keras.layers import LSTM, Dense, Dropout, Embedding, Flatten\n",
    "from tensorflow.keras.preprocessing.text import Tokenizer\n",
    "from tensorflow.keras.preprocessing.sequence import pad_sequences\n",
    "from tensorflow.keras.models import Sequential\n",
    "from tensorflow.keras.callbacks import EarlyStopping\n",
    "import nltk\n",
    "from nltk.tokenize import word_tokenize\n",
    "from nltk.stem import PorterStemmer\n",
    "from nltk.corpus import stopwords\n",
    "from sklearn.model_selection import train_test_split\n",
    "porter = PorterStemmer()\n",
    "pd.set_option('display.max_colwidth', 5000)"
   ]
  },
  {
   "cell_type": "code",
   "execution_count": 2,
   "id": "f7e7456f",
   "metadata": {},
   "outputs": [],
   "source": [
    "colnames = ['review', 'score']\n",
    "df = pd.read_csv('amazon_cells_labelled.txt', delimiter='\\t', names=colnames, header=None, dtype={'locationid':np.int64})\n",
    "df['Source'] = 'Amazon'\n"
   ]
  },
  {
   "cell_type": "code",
   "execution_count": 3,
   "id": "8faf7ff4",
   "metadata": {},
   "outputs": [
    {
     "data": {
      "text/html": [
       "<div>\n",
       "<style scoped>\n",
       "    .dataframe tbody tr th:only-of-type {\n",
       "        vertical-align: middle;\n",
       "    }\n",
       "\n",
       "    .dataframe tbody tr th {\n",
       "        vertical-align: top;\n",
       "    }\n",
       "\n",
       "    .dataframe thead th {\n",
       "        text-align: right;\n",
       "    }\n",
       "</style>\n",
       "<table border=\"1\" class=\"dataframe\">\n",
       "  <thead>\n",
       "    <tr style=\"text-align: right;\">\n",
       "      <th></th>\n",
       "      <th>review</th>\n",
       "      <th>score</th>\n",
       "      <th>Source</th>\n",
       "    </tr>\n",
       "  </thead>\n",
       "  <tbody>\n",
       "    <tr>\n",
       "      <th>0</th>\n",
       "      <td>So there is no way for me to plug it in here in the US unless I go by a converter.</td>\n",
       "      <td>0</td>\n",
       "      <td>Amazon</td>\n",
       "    </tr>\n",
       "    <tr>\n",
       "      <th>1</th>\n",
       "      <td>Good case, Excellent value.</td>\n",
       "      <td>1</td>\n",
       "      <td>Amazon</td>\n",
       "    </tr>\n",
       "    <tr>\n",
       "      <th>2</th>\n",
       "      <td>Great for the jawbone.</td>\n",
       "      <td>1</td>\n",
       "      <td>Amazon</td>\n",
       "    </tr>\n",
       "    <tr>\n",
       "      <th>3</th>\n",
       "      <td>Tied to charger for conversations lasting more than 45 minutes.MAJOR PROBLEMS!!</td>\n",
       "      <td>0</td>\n",
       "      <td>Amazon</td>\n",
       "    </tr>\n",
       "    <tr>\n",
       "      <th>4</th>\n",
       "      <td>The mic is great.</td>\n",
       "      <td>1</td>\n",
       "      <td>Amazon</td>\n",
       "    </tr>\n",
       "    <tr>\n",
       "      <th>...</th>\n",
       "      <td>...</td>\n",
       "      <td>...</td>\n",
       "      <td>...</td>\n",
       "    </tr>\n",
       "    <tr>\n",
       "      <th>995</th>\n",
       "      <td>The screen does get smudged easily because it touches your ear and face.</td>\n",
       "      <td>0</td>\n",
       "      <td>Amazon</td>\n",
       "    </tr>\n",
       "    <tr>\n",
       "      <th>996</th>\n",
       "      <td>What a piece of junk.. I lose more calls on this phone.</td>\n",
       "      <td>0</td>\n",
       "      <td>Amazon</td>\n",
       "    </tr>\n",
       "    <tr>\n",
       "      <th>997</th>\n",
       "      <td>Item Does Not Match Picture.</td>\n",
       "      <td>0</td>\n",
       "      <td>Amazon</td>\n",
       "    </tr>\n",
       "    <tr>\n",
       "      <th>998</th>\n",
       "      <td>The only thing that disappoint me is the infra red port (irda).</td>\n",
       "      <td>0</td>\n",
       "      <td>Amazon</td>\n",
       "    </tr>\n",
       "    <tr>\n",
       "      <th>999</th>\n",
       "      <td>You can not answer calls with the unit, never worked once!</td>\n",
       "      <td>0</td>\n",
       "      <td>Amazon</td>\n",
       "    </tr>\n",
       "  </tbody>\n",
       "</table>\n",
       "<p>1000 rows × 3 columns</p>\n",
       "</div>"
      ],
      "text/plain": [
       "                                                                                 review  \\\n",
       "0    So there is no way for me to plug it in here in the US unless I go by a converter.   \n",
       "1                                                           Good case, Excellent value.   \n",
       "2                                                                Great for the jawbone.   \n",
       "3       Tied to charger for conversations lasting more than 45 minutes.MAJOR PROBLEMS!!   \n",
       "4                                                                     The mic is great.   \n",
       "..                                                                                  ...   \n",
       "995            The screen does get smudged easily because it touches your ear and face.   \n",
       "996                             What a piece of junk.. I lose more calls on this phone.   \n",
       "997                                                        Item Does Not Match Picture.   \n",
       "998                     The only thing that disappoint me is the infra red port (irda).   \n",
       "999                          You can not answer calls with the unit, never worked once!   \n",
       "\n",
       "     score  Source  \n",
       "0        0  Amazon  \n",
       "1        1  Amazon  \n",
       "2        1  Amazon  \n",
       "3        0  Amazon  \n",
       "4        1  Amazon  \n",
       "..     ...     ...  \n",
       "995      0  Amazon  \n",
       "996      0  Amazon  \n",
       "997      0  Amazon  \n",
       "998      0  Amazon  \n",
       "999      0  Amazon  \n",
       "\n",
       "[1000 rows x 3 columns]"
      ]
     },
     "execution_count": 3,
     "metadata": {},
     "output_type": "execute_result"
    }
   ],
   "source": [
    "df"
   ]
  },
  {
   "cell_type": "code",
   "execution_count": 4,
   "id": "9299c73a",
   "metadata": {},
   "outputs": [
    {
     "data": {
      "text/html": [
       "<div>\n",
       "<style scoped>\n",
       "    .dataframe tbody tr th:only-of-type {\n",
       "        vertical-align: middle;\n",
       "    }\n",
       "\n",
       "    .dataframe tbody tr th {\n",
       "        vertical-align: top;\n",
       "    }\n",
       "\n",
       "    .dataframe thead th {\n",
       "        text-align: right;\n",
       "    }\n",
       "</style>\n",
       "<table border=\"1\" class=\"dataframe\">\n",
       "  <thead>\n",
       "    <tr style=\"text-align: right;\">\n",
       "      <th></th>\n",
       "      <th>review</th>\n",
       "      <th>score</th>\n",
       "      <th>Source</th>\n",
       "    </tr>\n",
       "  </thead>\n",
       "  <tbody>\n",
       "    <tr>\n",
       "      <th>0</th>\n",
       "      <td>so there is no way for me to plug it in here in the us unless i go by a converter.</td>\n",
       "      <td>0</td>\n",
       "      <td>Amazon</td>\n",
       "    </tr>\n",
       "    <tr>\n",
       "      <th>1</th>\n",
       "      <td>good case, excellent value.</td>\n",
       "      <td>1</td>\n",
       "      <td>Amazon</td>\n",
       "    </tr>\n",
       "    <tr>\n",
       "      <th>2</th>\n",
       "      <td>great for the jawbone.</td>\n",
       "      <td>1</td>\n",
       "      <td>Amazon</td>\n",
       "    </tr>\n",
       "    <tr>\n",
       "      <th>3</th>\n",
       "      <td>tied to charger for conversations lasting more than 45 minutes.major problems!!</td>\n",
       "      <td>0</td>\n",
       "      <td>Amazon</td>\n",
       "    </tr>\n",
       "    <tr>\n",
       "      <th>4</th>\n",
       "      <td>the mic is great.</td>\n",
       "      <td>1</td>\n",
       "      <td>Amazon</td>\n",
       "    </tr>\n",
       "    <tr>\n",
       "      <th>...</th>\n",
       "      <td>...</td>\n",
       "      <td>...</td>\n",
       "      <td>...</td>\n",
       "    </tr>\n",
       "    <tr>\n",
       "      <th>995</th>\n",
       "      <td>the screen does get smudged easily because it touches your ear and face.</td>\n",
       "      <td>0</td>\n",
       "      <td>Amazon</td>\n",
       "    </tr>\n",
       "    <tr>\n",
       "      <th>996</th>\n",
       "      <td>what a piece of junk.. i lose more calls on this phone.</td>\n",
       "      <td>0</td>\n",
       "      <td>Amazon</td>\n",
       "    </tr>\n",
       "    <tr>\n",
       "      <th>997</th>\n",
       "      <td>item does not match picture.</td>\n",
       "      <td>0</td>\n",
       "      <td>Amazon</td>\n",
       "    </tr>\n",
       "    <tr>\n",
       "      <th>998</th>\n",
       "      <td>the only thing that disappoint me is the infra red port (irda).</td>\n",
       "      <td>0</td>\n",
       "      <td>Amazon</td>\n",
       "    </tr>\n",
       "    <tr>\n",
       "      <th>999</th>\n",
       "      <td>you can not answer calls with the unit, never worked once!</td>\n",
       "      <td>0</td>\n",
       "      <td>Amazon</td>\n",
       "    </tr>\n",
       "  </tbody>\n",
       "</table>\n",
       "<p>1000 rows × 3 columns</p>\n",
       "</div>"
      ],
      "text/plain": [
       "                                                                                 review  \\\n",
       "0    so there is no way for me to plug it in here in the us unless i go by a converter.   \n",
       "1                                                           good case, excellent value.   \n",
       "2                                                                great for the jawbone.   \n",
       "3       tied to charger for conversations lasting more than 45 minutes.major problems!!   \n",
       "4                                                                     the mic is great.   \n",
       "..                                                                                  ...   \n",
       "995            the screen does get smudged easily because it touches your ear and face.   \n",
       "996                             what a piece of junk.. i lose more calls on this phone.   \n",
       "997                                                        item does not match picture.   \n",
       "998                     the only thing that disappoint me is the infra red port (irda).   \n",
       "999                          you can not answer calls with the unit, never worked once!   \n",
       "\n",
       "     score  Source  \n",
       "0        0  Amazon  \n",
       "1        1  Amazon  \n",
       "2        1  Amazon  \n",
       "3        0  Amazon  \n",
       "4        1  Amazon  \n",
       "..     ...     ...  \n",
       "995      0  Amazon  \n",
       "996      0  Amazon  \n",
       "997      0  Amazon  \n",
       "998      0  Amazon  \n",
       "999      0  Amazon  \n",
       "\n",
       "[1000 rows x 3 columns]"
      ]
     },
     "execution_count": 4,
     "metadata": {},
     "output_type": "execute_result"
    }
   ],
   "source": [
    "df['review'] = df['review'].str.lower()\n",
    "df"
   ]
  },
  {
   "cell_type": "code",
   "execution_count": 5,
   "id": "e92a5775",
   "metadata": {},
   "outputs": [
    {
     "name": "stdout",
     "output_type": "stream",
     "text": [
      "['s', 'o', ' ', 't', 'h', 'e', 'r', 'i', 'n', 'w', 'a', 'y', 'f', 'm', 'p', 'l', 'u', 'g', 'b', 'c', 'v', '.', 'd', ',', 'x', 'j', '4', '5', '!', 'z', 'q', '+', '\"', 'k', \"'\", '/', '7', '3', '6', '8', '0', '2', '?', '-', '1', ':', ')', '(', '&', '$', '*', ';', '%', '9', '#', '[', ']']\n"
     ]
    },
    {
     "data": {
      "text/plain": [
       "57"
      ]
     },
     "execution_count": 5,
     "metadata": {},
     "output_type": "execute_result"
    }
   ],
   "source": [
    "reviews = df['review']\n",
    "list_of_characters = []\n",
    "for review in reviews:\n",
    "    for character in review:\n",
    "        if character not in list_of_characters:\n",
    "            list_of_characters.append(character)\n",
    "print(list_of_characters)\n",
    "len(list_of_characters)"
   ]
  },
  {
   "cell_type": "code",
   "execution_count": 6,
   "id": "0b16ec34",
   "metadata": {},
   "outputs": [],
   "source": [
    "df.review.replace('[^A-Za-z ]+', '', regex=True, inplace = True)"
   ]
  },
  {
   "cell_type": "code",
   "execution_count": 7,
   "id": "c22b487d",
   "metadata": {},
   "outputs": [
    {
     "name": "stdout",
     "output_type": "stream",
     "text": [
      "['s', 'o', ' ', 't', 'h', 'e', 'r', 'i', 'n', 'w', 'a', 'y', 'f', 'm', 'p', 'l', 'u', 'g', 'b', 'c', 'v', 'd', 'x', 'j', 'z', 'q', 'k']\n"
     ]
    },
    {
     "data": {
      "text/plain": [
       "27"
      ]
     },
     "execution_count": 7,
     "metadata": {},
     "output_type": "execute_result"
    }
   ],
   "source": [
    "reviews = df['review']\n",
    "list_of_characters = []\n",
    "for review in reviews:\n",
    "    for character in review:\n",
    "        if character not in list_of_characters:\n",
    "            list_of_characters.append(character)\n",
    "print(list_of_characters)\n",
    "len(list_of_characters)"
   ]
  },
  {
   "cell_type": "code",
   "execution_count": 8,
   "id": "e609bab3",
   "metadata": {},
   "outputs": [
    {
     "data": {
      "text/html": [
       "<div>\n",
       "<style scoped>\n",
       "    .dataframe tbody tr th:only-of-type {\n",
       "        vertical-align: middle;\n",
       "    }\n",
       "\n",
       "    .dataframe tbody tr th {\n",
       "        vertical-align: top;\n",
       "    }\n",
       "\n",
       "    .dataframe thead th {\n",
       "        text-align: right;\n",
       "    }\n",
       "</style>\n",
       "<table border=\"1\" class=\"dataframe\">\n",
       "  <thead>\n",
       "    <tr style=\"text-align: right;\">\n",
       "      <th></th>\n",
       "      <th>review</th>\n",
       "      <th>score</th>\n",
       "      <th>Source</th>\n",
       "    </tr>\n",
       "  </thead>\n",
       "  <tbody>\n",
       "    <tr>\n",
       "      <th>0</th>\n",
       "      <td>so there is no way for me to plug it in here in the us unless i go by a converter</td>\n",
       "      <td>0</td>\n",
       "      <td>Amazon</td>\n",
       "    </tr>\n",
       "    <tr>\n",
       "      <th>1</th>\n",
       "      <td>good case excellent value</td>\n",
       "      <td>1</td>\n",
       "      <td>Amazon</td>\n",
       "    </tr>\n",
       "    <tr>\n",
       "      <th>2</th>\n",
       "      <td>great for the jawbone</td>\n",
       "      <td>1</td>\n",
       "      <td>Amazon</td>\n",
       "    </tr>\n",
       "    <tr>\n",
       "      <th>3</th>\n",
       "      <td>tied to charger for conversations lasting more than  minutesmajor problems</td>\n",
       "      <td>0</td>\n",
       "      <td>Amazon</td>\n",
       "    </tr>\n",
       "    <tr>\n",
       "      <th>4</th>\n",
       "      <td>the mic is great</td>\n",
       "      <td>1</td>\n",
       "      <td>Amazon</td>\n",
       "    </tr>\n",
       "    <tr>\n",
       "      <th>...</th>\n",
       "      <td>...</td>\n",
       "      <td>...</td>\n",
       "      <td>...</td>\n",
       "    </tr>\n",
       "    <tr>\n",
       "      <th>995</th>\n",
       "      <td>the screen does get smudged easily because it touches your ear and face</td>\n",
       "      <td>0</td>\n",
       "      <td>Amazon</td>\n",
       "    </tr>\n",
       "    <tr>\n",
       "      <th>996</th>\n",
       "      <td>what a piece of junk i lose more calls on this phone</td>\n",
       "      <td>0</td>\n",
       "      <td>Amazon</td>\n",
       "    </tr>\n",
       "    <tr>\n",
       "      <th>997</th>\n",
       "      <td>item does not match picture</td>\n",
       "      <td>0</td>\n",
       "      <td>Amazon</td>\n",
       "    </tr>\n",
       "    <tr>\n",
       "      <th>998</th>\n",
       "      <td>the only thing that disappoint me is the infra red port irda</td>\n",
       "      <td>0</td>\n",
       "      <td>Amazon</td>\n",
       "    </tr>\n",
       "    <tr>\n",
       "      <th>999</th>\n",
       "      <td>you can not answer calls with the unit never worked once</td>\n",
       "      <td>0</td>\n",
       "      <td>Amazon</td>\n",
       "    </tr>\n",
       "  </tbody>\n",
       "</table>\n",
       "<p>1000 rows × 3 columns</p>\n",
       "</div>"
      ],
      "text/plain": [
       "                                                                                review  \\\n",
       "0    so there is no way for me to plug it in here in the us unless i go by a converter   \n",
       "1                                                            good case excellent value   \n",
       "2                                                                great for the jawbone   \n",
       "3           tied to charger for conversations lasting more than  minutesmajor problems   \n",
       "4                                                                     the mic is great   \n",
       "..                                                                                 ...   \n",
       "995            the screen does get smudged easily because it touches your ear and face   \n",
       "996                               what a piece of junk i lose more calls on this phone   \n",
       "997                                                        item does not match picture   \n",
       "998                       the only thing that disappoint me is the infra red port irda   \n",
       "999                           you can not answer calls with the unit never worked once   \n",
       "\n",
       "     score  Source  \n",
       "0        0  Amazon  \n",
       "1        1  Amazon  \n",
       "2        1  Amazon  \n",
       "3        0  Amazon  \n",
       "4        1  Amazon  \n",
       "..     ...     ...  \n",
       "995      0  Amazon  \n",
       "996      0  Amazon  \n",
       "997      0  Amazon  \n",
       "998      0  Amazon  \n",
       "999      0  Amazon  \n",
       "\n",
       "[1000 rows x 3 columns]"
      ]
     },
     "execution_count": 8,
     "metadata": {},
     "output_type": "execute_result"
    }
   ],
   "source": [
    "df"
   ]
  },
  {
   "cell_type": "code",
   "execution_count": 9,
   "id": "79c95cda",
   "metadata": {},
   "outputs": [],
   "source": [
    "stop_words = stopwords.words('english')\n",
    "df['review'] = df.review.apply(lambda review: \" \".join(word for word in review.split() if word not in stop_words))"
   ]
  },
  {
   "cell_type": "code",
   "execution_count": 10,
   "id": "02131f67",
   "metadata": {},
   "outputs": [
    {
     "data": {
      "text/html": [
       "<div>\n",
       "<style scoped>\n",
       "    .dataframe tbody tr th:only-of-type {\n",
       "        vertical-align: middle;\n",
       "    }\n",
       "\n",
       "    .dataframe tbody tr th {\n",
       "        vertical-align: top;\n",
       "    }\n",
       "\n",
       "    .dataframe thead th {\n",
       "        text-align: right;\n",
       "    }\n",
       "</style>\n",
       "<table border=\"1\" class=\"dataframe\">\n",
       "  <thead>\n",
       "    <tr style=\"text-align: right;\">\n",
       "      <th></th>\n",
       "      <th>review</th>\n",
       "      <th>score</th>\n",
       "      <th>Source</th>\n",
       "    </tr>\n",
       "  </thead>\n",
       "  <tbody>\n",
       "    <tr>\n",
       "      <th>0</th>\n",
       "      <td>way plug us unless go converter</td>\n",
       "      <td>0</td>\n",
       "      <td>Amazon</td>\n",
       "    </tr>\n",
       "    <tr>\n",
       "      <th>1</th>\n",
       "      <td>good case excellent value</td>\n",
       "      <td>1</td>\n",
       "      <td>Amazon</td>\n",
       "    </tr>\n",
       "    <tr>\n",
       "      <th>2</th>\n",
       "      <td>great jawbone</td>\n",
       "      <td>1</td>\n",
       "      <td>Amazon</td>\n",
       "    </tr>\n",
       "    <tr>\n",
       "      <th>3</th>\n",
       "      <td>tied charger conversations lasting minutesmajor problems</td>\n",
       "      <td>0</td>\n",
       "      <td>Amazon</td>\n",
       "    </tr>\n",
       "    <tr>\n",
       "      <th>4</th>\n",
       "      <td>mic great</td>\n",
       "      <td>1</td>\n",
       "      <td>Amazon</td>\n",
       "    </tr>\n",
       "    <tr>\n",
       "      <th>...</th>\n",
       "      <td>...</td>\n",
       "      <td>...</td>\n",
       "      <td>...</td>\n",
       "    </tr>\n",
       "    <tr>\n",
       "      <th>995</th>\n",
       "      <td>screen get smudged easily touches ear face</td>\n",
       "      <td>0</td>\n",
       "      <td>Amazon</td>\n",
       "    </tr>\n",
       "    <tr>\n",
       "      <th>996</th>\n",
       "      <td>piece junk lose calls phone</td>\n",
       "      <td>0</td>\n",
       "      <td>Amazon</td>\n",
       "    </tr>\n",
       "    <tr>\n",
       "      <th>997</th>\n",
       "      <td>item match picture</td>\n",
       "      <td>0</td>\n",
       "      <td>Amazon</td>\n",
       "    </tr>\n",
       "    <tr>\n",
       "      <th>998</th>\n",
       "      <td>thing disappoint infra red port irda</td>\n",
       "      <td>0</td>\n",
       "      <td>Amazon</td>\n",
       "    </tr>\n",
       "    <tr>\n",
       "      <th>999</th>\n",
       "      <td>answer calls unit never worked</td>\n",
       "      <td>0</td>\n",
       "      <td>Amazon</td>\n",
       "    </tr>\n",
       "  </tbody>\n",
       "</table>\n",
       "<p>1000 rows × 3 columns</p>\n",
       "</div>"
      ],
      "text/plain": [
       "                                                       review  score  Source\n",
       "0                             way plug us unless go converter      0  Amazon\n",
       "1                                   good case excellent value      1  Amazon\n",
       "2                                               great jawbone      1  Amazon\n",
       "3    tied charger conversations lasting minutesmajor problems      0  Amazon\n",
       "4                                                   mic great      1  Amazon\n",
       "..                                                        ...    ...     ...\n",
       "995                screen get smudged easily touches ear face      0  Amazon\n",
       "996                               piece junk lose calls phone      0  Amazon\n",
       "997                                        item match picture      0  Amazon\n",
       "998                      thing disappoint infra red port irda      0  Amazon\n",
       "999                            answer calls unit never worked      0  Amazon\n",
       "\n",
       "[1000 rows x 3 columns]"
      ]
     },
     "execution_count": 10,
     "metadata": {},
     "output_type": "execute_result"
    }
   ],
   "source": [
    "df"
   ]
  },
  {
   "cell_type": "markdown",
   "id": "dc3f53d2",
   "metadata": {},
   "source": [
    "# B1a\n",
    "The code provided above was utilized to help clean up the data set and make it easier for use in sentiment analysis. After loading the data set, the data was first converted to all lower case, rather than having both upper and lower case letters. It was then examined for any unusual characters (emojis, non-english characters, etc). There was 57 characters initially, however some of those were either emojis, puncutation, and numbers. For the sake of creating a model to predict how a customer might review might feel based on the words they chose to use, it was determined that it would be best to get rid of these unnecessary characters. After that, stopwords were removed from the dataset as well."
   ]
  },
  {
   "cell_type": "code",
   "execution_count": 11,
   "id": "1566a92e",
   "metadata": {},
   "outputs": [],
   "source": [
    "#Code below is splitting the data into training, testing and validation data sets\n",
    "X = np.array(df['review'])\n",
    "y = df.score.values\n",
    "X_train, X_test, y_train, y_test = train_test_split(X, y, train_size = 0.8, random_state = 13, stratify = y)\n",
    "X_val, X_test, y_val, y_test  = train_test_split(X_test, y_test, test_size = 0.5, random_state = 13, stratify = y_test)"
   ]
  },
  {
   "cell_type": "markdown",
   "id": "2dc05540",
   "metadata": {},
   "source": [
    "# B1b\n",
    "The provided below was utilized to determine the vocabulary size of the dataset by fitting it on the training dataset. The Tokenizer class from the Keras library was utilized to perform the task. It was determined that the vocabulary size was 1,535 unique words throughout the data set. The vocabulary size also plays a role in determining the maximum embedding sequence later on"
   ]
  },
  {
   "cell_type": "code",
   "execution_count": 12,
   "id": "9db10806",
   "metadata": {},
   "outputs": [
    {
     "name": "stdout",
     "output_type": "stream",
     "text": [
      "Vocabulary size:  1535\n"
     ]
    }
   ],
   "source": [
    "tokenizer = Tokenizer()\n",
    "tokenizer.fit_on_texts(X_train) \n",
    "vocab_size = len(tokenizer.word_index) + 1\n",
    "encoded_docs = tokenizer.texts_to_sequences(df['review'])\n",
    "print(\"Vocabulary size: \", vocab_size)"
   ]
  },
  {
   "cell_type": "markdown",
   "id": "fae2676e",
   "metadata": {},
   "source": [
    "# B1c\n",
    "The code provided below was utilized for determining the word embedding length. It is the position of the word in the learned vector space and can be determined by taking the fourth root of the vocabulary size determined beforehand. "
   ]
  },
  {
   "cell_type": "code",
   "execution_count": 13,
   "id": "55a14b82",
   "metadata": {},
   "outputs": [
    {
     "data": {
      "text/plain": [
       "6"
      ]
     },
     "execution_count": 13,
     "metadata": {},
     "output_type": "execute_result"
    }
   ],
   "source": [
    "max_sequence_embedding = int(round(np.sqrt(np.sqrt(vocab_size)), 0))\n",
    "max_sequence_embedding"
   ]
  },
  {
   "cell_type": "markdown",
   "id": "0844c584",
   "metadata": {},
   "source": [
    "# B1d\n",
    "\n",
    "The following code provided was used to determine the maximum sequence length of the data set. In finding the maximum sequence length, we are preserving the available input data so that the model won't yield any conconclusions that don't work well. It also helps with the padding sequence, as the shorter inputs will be padded to fit this size."
   ]
  },
  {
   "cell_type": "code",
   "execution_count": 14,
   "id": "8fedd92c",
   "metadata": {},
   "outputs": [
    {
     "name": "stdout",
     "output_type": "stream",
     "text": [
      "16\n"
     ]
    }
   ],
   "source": [
    "review_length = []\n",
    "for review in df['review']:\n",
    "    review_length.append(len(review.split(' ')))\n",
    "    \n",
    "review_max = np.max(review_length)\n",
    "print(review_max)"
   ]
  },
  {
   "cell_type": "markdown",
   "id": "723833c5",
   "metadata": {},
   "source": [
    "# B2, Tokenization:\n",
    "\n",
    "After converting the dataset to lowercase, removing stopwords and non-english and unusual characters, getting the maximum review length and the embedding sequence, the next step was to tokenize the data. The reason being is that \"the primary goal of tokenization is to represent text in a manner that's meaningful for machines without losing its context\" (Awan, 2023). Tokenization allows for the machines being used to understand and respond to human input. The process takes and text and separates it into smaller chunks. "
   ]
  },
  {
   "cell_type": "code",
   "execution_count": 15,
   "id": "4b11fb6f",
   "metadata": {},
   "outputs": [
    {
     "name": "stdout",
     "output_type": "stream",
     "text": [
      "{'OOV': 1, 'phone': 2, 'great': 3, 'good': 4, 'product': 5, 'quality': 6, 'one': 7, 'works': 8, 'headset': 9, 'use': 10, 'well': 11, 'work': 12, 'sound': 13, 'battery': 14, 'ear': 15, 'would': 16, 'time': 17, 'dont': 18, 'really': 19, 'case': 20, 'like': 21, 'im': 22, 'price': 23, 'recommend': 24, 'ive': 25, 'best': 26, 'also': 27, 'excellent': 28, 'service': 29, 'nice': 30, 'get': 31, 'love': 32, 'ever': 33, 'used': 34, 'car': 35, 'charger': 36, 'new': 37, 'happy': 38, 'bluetooth': 39, 'comfortable': 40, 'item': 41, 'doesnt': 42, 'worked': 43, 'could': 44, 'poor': 45, 'even': 46, 'money': 47, 'cell': 48, 'easy': 49, 'first': 50, 'bad': 51, 'got': 52, 'better': 53, 'waste': 54, 'worst': 55, 'device': 56, 'enough': 57, 'fit': 58, 'hear': 59, 'made': 60, 'using': 61, 'long': 62, 'fine': 63, 'two': 64, 'still': 65, 'life': 66, 'camera': 67, 'make': 68, 'right': 69, 'bought': 70, 'reception': 71, 'makes': 72, 'design': 73, 'buy': 74, 'charge': 75, 'clear': 76, 'working': 77, 'much': 78, 'purchase': 79, 'piece': 80, 'motorola': 81, 'people': 82, 'cheap': 83, 'phones': 84, 'volume': 85, 'calls': 86, 'problems': 87, 'fits': 88, 'far': 89, 'looks': 90, 'thing': 91, 'problem': 92, 'terrible': 93, 'jabra': 94, 'everything': 95, 'low': 96, 'broke': 97, 'days': 98, 'never': 99, 'talk': 100, 'customer': 101, 'think': 102, 'years': 103, 'call': 104, 'unit': 105, 'months': 106, 'couldnt': 107, 'small': 108, 'voice': 109, 'found': 110, 'software': 111, 'several': 112, 'pretty': 113, 'didnt': 114, 'verizon': 115, 'horrible': 116, 'amazon': 117, 'tried': 118, 'light': 119, 'looking': 120, 'company': 121, 'disappointed': 122, 'little': 123, 'screen': 124, 'buttons': 125, 'last': 126, 'back': 127, 'big': 128, 'around': 129, 'need': 130, 'headsets': 131, 'cable': 132, 'wear': 133, 'junk': 134, 'cant': 135, 'came': 136, 'anyone': 137, 'find': 138, 'plug': 139, 'impressed': 140, 'lot': 141, 'cool': 142, 'without': 143, 'highly': 144, 'within': 145, 'received': 146, 'difficult': 147, 'way': 148, 'range': 149, 'always': 150, 'helpful': 151, 'nokia': 152, 'many': 153, 'samsung': 154, 'internet': 155, 'end': 156, 'keep': 157, 'headphones': 158, 'every': 159, 'hard': 160, 'week': 161, 'audio': 162, 'ears': 163, 'pictures': 164, 'feature': 165, 'picture': 166, 'sturdy': 167, 'take': 168, 'stay': 169, 'minutes': 170, 'look': 171, 'hours': 172, 'connection': 173, 'kind': 174, 'thats': 175, 'go': 176, 'three': 177, 'high': 178, 'sending': 179, 'hold': 180, 'decent': 181, 'able': 182, 'easily': 183, 'day': 184, 'worth': 185, 'say': 186, 'bars': 187, 'anything': 188, 'weak': 189, 'leather': 190, 'gets': 191, 'job': 192, 'must': 193, 'weeks': 194, 'real': 195, 'earpiece': 196, 'disappointment': 197, 'hate': 198, 'completely': 199, 'perfectly': 200, 'useless': 201, 'buying': 202, 'comes': 203, 'tmobile': 204, 'lg': 205, 'went': 206, 'rather': 207, 'important': 208, 'belt': 209, 'clip': 210, 'hands': 211, 'cannot': 212, 'color': 213, 'different': 214, 'turn': 215, 'loud': 216, 'awesome': 217, 'keyboard': 218, 'part': 219, 'original': 220, 'strong': 221, 'seems': 222, 'expect': 223, 'store': 224, 'know': 225, 'comfortably': 226, 'either': 227, 'lasts': 228, 'couple': 229, 'unfortunately': 230, 'dropped': 231, 'id': 232, 'going': 233, 'charging': 234, 'value': 235, 'purchased': 236, 'black': 237, 'quite': 238, 'lightweight': 239, 'actually': 240, 'signal': 241, 'razr': 242, 'plastic': 243, 'deal': 244, 'sucks': 245, 'face': 246, 'cases': 247, 'obviously': 248, 'feels': 249, 'poorly': 250, 'experience': 251, 'network': 252, 'wireless': 253, 'theres': 254, 'pleased': 255, 'mistake': 256, 'earbud': 257, 'super': 258, 'choice': 259, 'finally': 260, 'usb': 261, 'nothing': 262, 'home': 263, 'almost': 264, 'said': 265, 'later': 266, 'microphone': 267, 'mic': 268, 'simple': 269, 'break': 270, 'worthless': 271, 'trouble': 272, 'ringtones': 273, 'getting': 274, 'satisfied': 275, 'goes': 276, 'wanted': 277, 'sure': 278, 'absolutely': 279, 'computer': 280, 'perhaps': 281, 'seriously': 282, 'unreliable': 283, 'times': 284, 'area': 285, 'put': 286, 'sprint': 287, 'outlet': 288, 'give': 289, 'started': 290, 'old': 291, 'wont': 292, 'place': 293, 'avoid': 294, 'wasnt': 295, 'arrived': 296, 'quickly': 297, 'sony': 298, 'yet': 299, 'pair': 300, 'noise': 301, 'plus': 302, 'bargain': 303, 'charm': 304, 'included': 305, 'description': 306, 'feel': 307, 'support': 308, 'features': 309, 'kept': 310, 'fast': 311, 'since': 312, 'plugged': 313, 'might': 314, 'crap': 315, 'uncomfortable': 316, 'return': 317, 'coverage': 318, 'jawbone': 319, 'side': 320, 'overall': 321, 'less': 322, 'replace': 323, 'ordered': 324, 'thought': 325, 'slow': 326, 'away': 327, 'comfort': 328, 'family': 329, 'market': 330, 'shipping': 331, 'ago': 332, 'performance': 333, 'packaged': 334, 'expected': 335, 'failed': 336, 'another': 337, 'left': 338, 'free': 339, 'given': 340, 'ease': 341, 'definitely': 342, 'clarity': 343, 'treo': 344, 'longer': 345, 'drop': 346, 'instead': 347, 'data': 348, 'seconds': 349, 'form': 350, 'handsfree': 351, 'palm': 352, 'wife': 353, 'easier': 354, 'replacement': 355, 'static': 356, 'rocks': 357, 'plantronics': 358, 'glad': 359, 'everyone': 360, 'pc': 361, 'probably': 362, 'especially': 363, 'none': 364, 'want': 365, 'beep': 366, 'particular': 367, 'clearly': 368, 'house': 369, 'issues': 370, 'ask': 371, 'us': 372, 'breaks': 373, 'charged': 374, 'stuff': 375, 'least': 376, 'hour': 377, 'hoping': 378, 'things': 379, 'despite': 380, 'costs': 381, 'ok': 382, 'hand': 383, 'advise': 384, 'described': 385, 'e': 386, 'careful': 387, 'complaint': 388, 'next': 389, 'ill': 390, 'along': 391, 'starts': 392, 'ringing': 393, 'recharge': 394, 'may': 395, 'unhappy': 396, 'stupid': 397, 'chargers': 398, 'reading': 399, 'alone': 400, 'beware': 401, 'user': 402, 'friendly': 403, 'etc': 404, 'button': 405, 'felt': 406, 'feet': 407, 'line': 408, 'switch': 409, 'setup': 410, 'inside': 411, 'quiet': 412, 'allows': 413, 'date': 414, 'driving': 415, 'usually': 416, 'holds': 417, 'reasonably': 418, 'tremendous': 419, 'tries': 420, 'fails': 421, 'ability': 422, 'crisp': 423, 'att': 424, 'cover': 425, 'access': 426, 'handy': 427, 'awful': 428, 'tinny': 429, 'echo': 430, 'instructions': 431, 'basically': 432, 'sharp': 433, 'blue': 434, 'sleek': 435, 'impressive': 436, 'storage': 437, 'experienced': 438, 'drops': 439, 'simply': 440, 'told': 441, 'order': 442, 'extremely': 443, 'install': 444, 'joke': 445, 'full': 446, 'number': 447, 'keypad': 448, 'motorolas': 449, 'website': 450, 'download': 451, 'laptop': 452, 'send': 453, 'sunglasses': 454, 'amazed': 455, 'quick': 456, 'background': 457, 'star': 458, 'secure': 459, 'resolution': 460, 'protection': 461, 'holding': 462, 'iphone': 463, 'results': 464, 'bar': 465, 'run': 466, 'let': 467, 'essentially': 468, 'tool': 469, 'notice': 470, 'chinese': 471, 'others': 472, 'vx': 473, 'power': 474, 'wall': 475, 'construction': 476, 'gotten': 477, 'loves': 478, 'play': 479, 'video': 480, 'nearly': 481, 'happier': 482, 'model': 483, 'q': 484, 'excited': 485, 'maintain': 486, 'seller': 487, 'current': 488, 'whole': 489, 'barely': 490, 'took': 491, 'making': 492, 'dialing': 493, 'series': 494, 'saying': 495, 'brand': 496, 'previous': 497, 'adorable': 498, 'catching': 499, 'receiving': 500, 'says': 501, 'wasted': 502, 'returning': 503, 'white': 504, 'conversation': 505, 'shipped': 506, 'cheaper': 507, 'pay': 508, 'dying': 509, 'oh': 510, 'recognition': 511, 'lock': 512, 'bother': 513, 'docking': 514, 'station': 515, 'plan': 516, 'forget': 517, 'consumer': 518, 'appears': 519, 'timeframe': 520, 'although': 521, 'ring': 522, 'spring': 523, 'earpieces': 524, 'tech': 525, 'book': 526, 'priced': 527, 'takes': 528, 'forever': 529, 'wearing': 530, 'ended': 531, 'embarrassing': 532, 'wouldnt': 533, 'sizes': 534, 'technology': 535, 'however': 536, 'normal': 537, 'accidentally': 538, 'dead': 539, 'contacts': 540, 'front': 541, 'sex': 542, 'advertised': 543, 'cumbersome': 544, 'disappointing': 545, 'pull': 546, 'try': 547, 'fall': 548, 'died': 549, 'set': 550, 'large': 551, 'literally': 552, 'turned': 553, 'mp': 554, 'refund': 555, 'unusable': 556, 'flawlessly': 557, 'pocket': 558, 'flash': 559, 'turns': 560, 'pda': 561, 'care': 562, 'tell': 563, 'functionality': 564, 'exchanged': 565, 'purchasing': 566, 'speaker': 567, 'unless': 568, 'bit': 569, 'year': 570, 'flaw': 571, 'come': 572, 'skype': 573, 'save': 574, 'decision': 575, 'cut': 576, 'protector': 577, 'scratched': 578, 'lost': 579, 'huge': 580, 'thin': 581, 'stars': 582, 'constructed': 583, 'menus': 584, 'navigate': 585, 'recessed': 586, 'push': 587, 'fourth': 588, 'hated': 589, 'superb': 590, 'angle': 591, 'party': 592, 'roam': 593, 'living': 594, 'room': 595, 'receptionsound': 596, 'corded': 597, 'freedom': 598, 'surprised': 599, 'reviews': 600, 'iam': 601, 'winner': 602, 'ugly': 603, 'hybrid': 604, 'palmtopcameracellphone': 605, 'excels': 606, 'roles': 607, 'dirty': 608, 'ca': 609, 'entire': 610, 'impossible': 611, 'flaws': 612, 'exceptional': 613, 'additional': 614, 'owning': 615, 'official': 616, 'oem': 617, 'thank': 618, 'sounded': 619, 'wifes': 620, 'totally': 621, 'unintelligible': 622, 'understand': 623, 'word': 624, 'slide': 625, 'grip': 626, 'prevents': 627, 'slipping': 628, 'puff': 629, 'smoke': 630, 'complained': 631, 'convenient': 632, 'done': 633, 'ride': 634, 'smoother': 635, 'loop': 636, 'needed': 637, 'tiny': 638, 'study': 639, 'interested': 640, 'sins': 641, 'industrial': 642, 'improvement': 643, 'exactly': 644, 'samsungcrap': 645, 'crappy': 646, 'seeen': 647, 'buyerbe': 648, 'biggest': 649, 'drains': 650, 'superfast': 651, 'accessing': 652, 'downloading': 653, 'performing': 654, 'functions': 655, 'realize': 656, 'build': 657, 'unlike': 658, 'fantastic': 659, 'whatever': 660, 'beats': 661, 'fingers': 662, 'drivng': 663, 'reason': 664, 'lasting': 665, 'frequentyly': 666, 'flip': 667, 'cradles': 668, 'kits': 669, 'specs': 670, 'wow': 671, 'buyer': 672, 'flush': 673, 'toilet': 674, 'tracfonewebsite': 675, 'toactivate': 676, 'crack': 677, 'together': 678, 'exceeds': 679, 'sight': 680, 'thanks': 681, 'smoothly': 682, 'fact': 683, 'rests': 684, 'lightly': 685, 'unacceptableunless': 686, 'lose': 687, 'upbeat': 688, 'possibility': 689, 'double': 690, 'booking': 691, 'loudest': 692, 'setting': 693, 'longwearing': 694, 'conditions': 695, 'cables': 696, 'ipod': 697, 'charges': 698, 'span': 699, 'exclaim': 700, 'whoa': 701, 'tv': 702, 'distorted': 703, 'yell': 704, 'products': 705, 'sensor': 706, 'wirefly': 707, 'stari': 708, 'contact': 709, 'cingularatt': 710, 'inform': 711, 'practice': 712, 'detachable': 713, 'performed': 714, 'muffled': 715, 'incoming': 716, 'severe': 717, 'brokeni': 718, 'smoking': 719, 'operate': 720, 'screenthis': 721, 'interface': 722, 'decade': 723, 'compete': 724, 'designs': 725, 'explain': 726, 'jack': 727, 'threw': 728, 'window': 729, 'atleast': 730, 'welldesigned': 731, 'practical': 732, 'ample': 733, 'transmission': 734, 'minute': 735, 'h': 736, 'memory': 737, 'card': 738, 'talking': 739, 'shouting': 740, 'telephone': 741, 'bethe': 742, 'metro': 743, 'pcs': 744, 'schr': 745, 'slider': 746, 'premium': 747, 'plugs': 748, 'sturdiness': 749, 'dualpurpose': 750, 'muddy': 751, 'casing': 752, 'wires': 753, 'insert': 754, 'glued': 755, 'slid': 756, 'eargels': 757, 'buyers': 758, 'remorse': 759, 'lately': 760, 'odd': 761, 'complaints': 762, 'regarding': 763, 'compromise': 764, 'qwerty': 765, 'basic': 766, 'plantronincs': 767, 'continues': 768, 'flawed': 769, 'isnt': 770, 'problemvery': 771, 'unsatisfactory': 772, 'followed': 773, 'directions': 774, 'ir': 775, 'bose': 776, 'cancelling': 777, 'amazing': 778, 'nyc': 779, 'commuter': 780, 'texas': 781, 'arrival': 782, 'batteries': 783, 'fraction': 784, 'text': 785, 'messaging': 786, 'tricky': 787, 'occupied': 788, 'distracting': 789, 'five': 790, 'glove': 791, 'durable': 792, 'aggravating': 793, 'comparablypriced': 794, 'offering': 795, 'today': 796, 'provides': 797, 'classy': 798, 'keeping': 799, 'please': 800, 'waterproof': 801, 'disapointing': 802, 'items': 803, 'stated': 804, 'yearsgreat': 805, 'cancellation': 806, 'clipping': 807, 'deffinitely': 808, 'cents': 809, 'upandcoming': 810, 'trust': 811, 'numbers': 812, 'sim': 813, 'beeping': 814, 'letting': 815, 'dieing': 816, 'ac': 817, 'juicehighy': 818, 'recommended': 819, 'installed': 820, 'overnite': 821, 'believe': 822, 'steep': 823, 'point': 824, 'darn': 825, 'communications': 826, 'communicate': 827, 'reliability': 828, 'supposedly': 829, 'apparently': 830, 'match': 831, 'weight': 832, 'hardly': 833, 'forgeries': 834, 'abound': 835, 'ergonomic': 836, 'theory': 837, 'stand': 838, 'mentioned': 839, 'env': 840, 'improper': 841, 'connecting': 842, 'multiple': 843, 'sources': 844, 'imac': 845, 'external': 846, 'defect': 847, 'risk': 848, 'built': 849, 'upstairs': 850, 'basement': 851, 'worthwhile': 852, 'usefulness': 853, 'ipods': 854, 'beautiful': 855, 'sister': 856, 'recently': 857, 'connected': 858, 'disconnected': 859, 'era': 860, 'certain': 861, 'places': 862, 'effects': 863, 'saggy': 864, 'floppy': 865, 'thorn': 866, 'abhor': 867, 'clicks': 868, 'wonder': 869, 'mechanism': 870, 'reasonable': 871, 'ie': 872, 'shifting': 873, 'bubbling': 874, 'peeling': 875, 'scratch': 876, 'nothingi': 877, 'droid': 878, 'smartphone': 879, 'walkman': 880, 'fond': 881, 'magnetic': 882, 'strap': 883, 'immediately': 884, 'solid': 885, 'fulfills': 886, 'requirements': 887, 'clips': 888, 'behing': 889, 'comfortible': 890, 'pain': 891, 'holder': 892, 'gosh': 893, 'cute': 894, 'excrutiatingly': 895, 'lap': 896, 'finds': 897, 'enter': 898, 'adapter': 899, 'provide': 900, 'pairing': 901, 'devices': 902, 'sweetest': 903, 'bottowm': 904, 'lineanother': 905, 'gimmick': 906, 'coupon': 907, 'bmw': 908, 'fairly': 909, 'hearing': 910, 'person': 911, 'igo': 912, 'phonesmp': 913, 'players': 914, 'messages': 915, 'web': 916, 'browsing': 917, 'significantly': 918, 'faster': 919, 'frog': 920, 'eye': 921, 'liked': 922, 'definitly': 923, 'ericsson': 924, 'wi': 925, 'majority': 926, 'logitech': 927, 'needless': 928, 'quit': 929, 'owned': 930, 'prosgood': 931, 'styles': 932, 'trunk': 933, 'carried': 934, 'hitch': 935, 'competitors': 936, 'guess': 937, 'stopped': 938, 'father': 939, 'v': 940, 'earbugs': 941, 'means': 942, 'painful': 943, 'cheaply': 944, 'greater': 945, 'thru': 946, 'handset': 947, 'latest': 948, 'os': 949, 'vg': 950, 'likes': 951, 'crawl': 952, 'btv': 953, 'plenty': 954, 'capacity': 955, 'confortable': 956, 'somewhat': 957, 'extended': 958, 'periods': 959, 'refused': 960, 'forced': 961, 'upgrade': 962, 'discount': 963, 'colors': 964, 'calendar': 965, 'sync': 966, 'outperform': 967, 'china': 968, 'vi': 969, 'promised': 970, 'contacted': 971, 'warranty': 972, 'produce': 973, 'receipt': 974, 'luck': 975, 'waaay': 976, 'securely': 977, 'hook': 978, 'directed': 979, 'canal': 980, 'improve': 981, 'leaks': 982, 'toneoverall': 983, 'returned': 984, 'managed': 985, 'bend': 986, 'leaf': 987, 'metal': 988, 'stress': 989, 'magical': 990, 'help': 991, 'stuck': 992, 'max': 993, 'mute': 994, 'dustpan': 995, 'indoors': 996, 'disposable': 997, 'pitiful': 998, 'respect': 999, 'awkward': 1000, 'ideal': 1001, 'whose': 1002, 'sensitive': 1003, 'microsofts': 1004, 'bougth': 1005, 'lc': 1006, 'show': 1007, 'nicely': 1008, 'damage': 1009, 'mins': 1010, 'phonebattery': 1011, 'short': 1012, 'owneryou': 1013, 'stereo': 1014, 'hat': 1015, 'sliding': 1016, 'edge': 1017, 'pants': 1018, 'pockets': 1019, 'bitpim': 1020, 'program': 1021, 'internetto': 1022, 'transfer': 1023, 'phonethe': 1024, 'stream': 1025, 'submerged': 1026, 'addition': 1027, 'amp': 1028, 'mostly': 1029, 'childlike': 1030, 'linking': 1031, 'blackberry': 1032, 'curve': 1033, 'gels': 1034, 'r': 1035, 'four': 1036, 'latch': 1037, 'visor': 1038, 'tips': 1039, 'los': 1040, 'angeles': 1041, 'contacting': 1042, 'dollar': 1043, 'learned': 1044, 'lesson': 1045, 'online': 1046, 'anyway': 1047, 'cellphone': 1048, 'wornout': 1049, 'delivery': 1050, 'defective': 1051, 'contract': 1052, 'authentic': 1053, 'shine': 1054, 'anywhere': 1055, 'address': 1056, 'rebootsoverall': 1057, 'rate': 1058, 'disappoint': 1059, 'infra': 1060, 'red': 1061, 'port': 1062, 'irda': 1063, 'loads': 1064, 'soyo': 1065, 'intended': 1066, 'protects': 1067, 'sides': 1068, 'grtting': 1069, 'vc': 1070, 'girl': 1071, 'complain': 1072, 'wake': 1073, 'flipphones': 1074, 'videos': 1075, 'activate': 1076, 'gentletouch': 1077, 'touch': 1078, 'listening': 1079, 'tungsten': 1080, 'sounds': 1081, 'funny': 1082, 'seemed': 1083, 'sketchy': 1084, 'wellwell': 1085, 'possesed': 1086, 'idea': 1087, 'dozen': 1088, 'hundred': 1089, 'imagine': 1090, 'fun': 1091, 'lasted': 1092, 'blew': 1093, 'yes': 1094, 'shiny': 1095, 'iriver': 1096, 'spinn': 1097, 'joy': 1098, 'stops': 1099, 'intermittently': 1100, 'displeased': 1101, 'balance': 1102, 'leopard': 1103, 'print': 1104, 'wonderfully': 1105, 'wild': 1106, 'headbands': 1107, 'mess': 1108, 'hair': 1109, 'mega': 1110, 'pixel': 1111, 'psyched': 1112, 'appointments': 1113, 'securly': 1114, 'existing': 1115, 'cds': 1116, 'incredible': 1117, 'warning': 1118, 'though': 1119, 'favorite': 1120, 'purchases': 1121, 'saved': 1122, 'alot': 1123, 'investment': 1124, 'bluetooths': 1125, 'listener': 1126, 'fixes': 1127, 'beat': 1128, 'trash': 1129, 'average': 1130, 'operates': 1131, 'transformed': 1132, 'organizational': 1133, 'capability': 1134, 'seperated': 1135, 'mere': 1136, 'ft': 1137, 'excessive': 1138, 'garbled': 1139, 'bluetoooth': 1140, 'buds': 1141, 'music': 1142, 'geeky': 1143, 'toast': 1144, 'oozes': 1145, 'embedded': 1146, 'stylish': 1147, 'dwrongly': 1148, 'starter': 1149, 'practically': 1150, 'add': 1151, 'boost': 1152, 'excelent': 1153, 'orders': 1154, 'source': 1155, 'checked': 1156, 'everywhere': 1157, 'seat': 1158, 'pleather': 1159, 'phonemy': 1160, 'shield': 1161, 'incrediable': 1162, 'ant': 1163, 'recognizes': 1164, 'sorry': 1165, 'update': 1166, 'procedure': 1167, 'normally': 1168, 'apart': 1169, 'haul': 1170, 'boy': 1171, 'units': 1172, 'pros': 1173, 'searched': 1174, 'tick': 1175, 'heavyit': 1176, 'keeps': 1177, 'falling': 1178, 'finished': 1179, 'krussel': 1180, 'europe': 1181, 'asia': 1182, 'situations': 1183, 'research': 1184, 'development': 1185, 'division': 1186, 'knows': 1187, 'theyre': 1188, 'virgin': 1189, 'standard': 1190, 'fooled': 1191, 'drawback': 1192, 'player': 1193, 'pause': 1194, 'skip': 1195, 'songs': 1196, 'creaks': 1197, 'wooden': 1198, 'floor': 1199, 'counterfeit': 1200, 'state': 1201, 'allow': 1202, 'usage': 1203, 'file': 1204, 'browser': 1205, 'offers': 1206, 'options': 1207, 'needshandsfree': 1208, 'restocking': 1209, 'fee': 1210, 'smell': 1211, 'disgusting': 1212, 'moving': 1213, 'freeway': 1214, 'speed': 1215, 'onid': 1216, 'avoiding': 1217, 'greatno': 1218, 'prettier': 1219, 'graphics': 1220, 'incredibly': 1221, 'dit': 1222, 'aluminum': 1223, 'wellit': 1224, 'protected': 1225, 'handheld': 1226, 'fabulous': 1227, 'cingulair': 1228, 'nicer': 1229, 'noticed': 1230, 'accept': 1231, 'cassette': 1232, 'integrated': 1233, 'seamlessly': 1234, 'month': 1235, 'combination': 1236, 'looses': 1237, 'mode': 1238, 'friends': 1239, 'enjoy': 1240, 'shots': 1241, 'sos': 1242, 'signals': 1243, 'total': 1244, 'package': 1245, 'refuse': 1246, 'usable': 1247, 'realworld': 1248, 'useful': 1249, 'machine': 1250, 'neat': 1251, 'gadget': 1252, 'ready': 1253, 'prime': 1254, 'coming': 1255, 'penny': 1256, 'describe': 1257, 'rotating': 1258, 'aspect': 1259, 'note': 1260, 'appearance': 1261, 'bland': 1262, 'cingular': 1263, 'monkeys': 1264, 'shouldnt': 1265, 'share': 1266, 'dna': 1267, 'copy': 1268, 'humans': 1269, 'wrongfirst': 1270, 'mainly': 1271, 'soon': 1272, 'via': 1273, 'connect': 1274, 'miniusb': 1275, 'trying': 1276, 'gadgets': 1277, 'methe': 1278, 'jiggle': 1279, 'lense': 1280, 'covered': 1281, 'killer': 1282, 'course': 1283, 'breaking': 1284, 'satisifed': 1285, 'motor': 1286, 'control': 1287, 'center': 1288, 'voltage': 1289, 'humming': 1290, 'equipment': 1291, 'mother': 1292, 'blueant': 1293, 'supertooth': 1294, 'jx': 1295, 'moto': 1296, 'figure': 1297, 'encourage': 1298, 'third': 1299, 'numerous': 1300, 'palms': 1301, 'deaf': 1302, 'earphone': 1303, 'loudglad': 1304, 'maintains': 1305, 'flawless': 1306, 'colored': 1307, 'hoursthe': 1308, 'thereplacement': 1309, 'converter': 1310, 'opens': 1311, 'broken': 1312, 'seen': 1313, 'walked': 1314, 'procedures': 1315, 'reset': 1316, 'wiping': 1317, 'accompanied': 1318, 'brilliant': 1319, 'bucks': 1320, 'steer': 1321, 'genuine': 1322, 'replacementr': 1323, 'pens': 1324, 'threepack': 1325, 'buzzing': 1326, 'override': 1327, 'conversations': 1328, 'buyit': 1329, 'soundwise': 1330, 'crashed': 1331, 'replaced': 1332, 'loudspeaker': 1333, 'option': 1334, 'bumpers': 1335, 'lights': 1336, 'appealing': 1337, 'specially': 1338, 'electronics': 1339, 'available': 1340, 'fm': 1341, 'transmitters': 1342, 'freezes': 1343, 'frequently': 1344, 'rare': 1345, 'instance': 1346, 'drain': 1347, 'snap': 1348, 'top': 1349, 'causing': 1350, 'discomfort': 1351, 'ericson': 1352, 'za': 1353, 'waiting': 1354, 'recieve': 1355, 'sucked': 1356, 'bulky': 1357, 'soft': 1358, 'tight': 1359, 'shape': 1360, 'wish': 1361, 'carries': 1362, 'highest': 1363, 'antiglare': 1364, 'locks': 1365, 'screens': 1366, 'randomly': 1367, 'locked': 1368, 'awsome': 1369, 'hype': 1370, 'assumed': 1371, 'cellphones': 1372, 'planning': 1373, 'ordering': 1374, 'open': 1375, 'allowing': 1376, 'paired': 1377, 'w': 1378, 'transceiver': 1379, 'compliments': 1380, 'earset': 1381, 'outgoing': 1382, 'check': 1383, 'mail': 1384, 'night': 1385, 'backlight': 1386, 'message': 1387, 'sudden': 1388, 'rated': 1389, 'megapixels': 1390, 'renders': 1391, 'images': 1392, 'expectations': 1393, 'relatively': 1394, 'hey': 1395, 'pleasantly': 1396, 'suprised': 1397, 'cost': 1398, 'compared': 1399, 'wired': 1400, 'sent': 1401, 'inches': 1402, 'kitchen': 1403, 'counter': 1404, 'crackedi': 1405, 'laughing': 1406, 'passed': 1407, 'mark': 1408, 'shows': 1409, 'signs': 1410, 'functional': 1411, 'chargelife': 1412, 'drained': 1413, 'colleague': 1414, 'receptiona': 1415, 'expensive': 1416, 'cutouts': 1417, 'placed': 1418, 'flimsy': 1419, 'scary': 1420, 'gave': 1421, 'youll': 1422, 'regret': 1423, 'armband': 1424, 'wit': 1425, 'hit': 1426, 'dropping': 1427, 'pushed': 1428, 'function': 1429, 'strange': 1430, 'ticking': 1431, 'noises': 1432, 'ends': 1433, 'ngage': 1434, 'lacking': 1435, 'earbuds': 1436, 'bt': 1437, 'perfect': 1438, 'ps': 1439, 'forgot': 1440, 'mention': 1441, 'weird': 1442, 'effect': 1443, 'attractive': 1444, 'someone': 1445, 'shouldve': 1446, 'invented': 1447, 'sooner': 1448, 'factor': 1449, 'reaching': 1450, 'bottom': 1451, 'row': 1452, 'keys': 1453, 'defeats': 1454, 'purpose': 1455, 'near': 1456, 'zero': 1457, 'runs': 1458, 'pics': 1459, 'kindle': 1460, 'fire': 1461, 'loved': 1462, 'slim': 1463, 'alarm': 1464, 'clock': 1465, 'removing': 1466, 'loops': 1467, 'material': 1468, 'linksys': 1469, 'exchange': 1470, 'refurb': 1471, 'something': 1472, 'flops': 1473, 'tones': 1474, 'peachykeen': 1475, 'provided': 1476, 'answer': 1477, 'cuts': 1478, 'inconspicuous': 1479, 'boot': 1480, 'constantly': 1481, 'contstruct': 1482, 'hinge': 1483, 'prompt': 1484, 'extra': 1485, 'carry': 1486, 'hoped': 1487, 'pads': 1488, 'inexcusable': 1489, 'changing': 1490, 'carriers': 1491, 'cat': 1492, 'attacked': 1493, 'protective': 1494, 'strip': 1495, 'destroying': 1496, 'smudged': 1497, 'touches': 1498, 'lousy': 1499, 'landline': 1500, 'startac': 1501, 'regretted': 1502, 'promptly': 1503, 'activated': 1504, 'suddenly': 1505, 'according': 1506, 'called': 1507, 'applifies': 1508, 'generally': 1509, 'adhesive': 1510, 'certainly': 1511, 'mobile': 1512, 'tools': 1513, 'size': 1514, 'key': 1515, 'pad': 1516, 'lit': 1517, 'infatuated': 1518, 'websites': 1519, 'rating': 1520, 'reccomendation': 1521, 'relative': 1522, 'dissapointing': 1523, 'rocketed': 1524, 'destination': 1525, 'unknown': 1526, 'jerks': 1527, 'correctly': 1528, 'purcashed': 1529, 'giving': 1530, 'otherwise': 1531, 'garbage': 1532, 'earpad': 1533, 'onlyi': 1534, 'unacceptable': 1535}\n"
     ]
    }
   ],
   "source": [
    "tokenizer = Tokenizer(num_words = vocab_size, oov_token = 'OOV')\n",
    "tokenizer.fit_on_texts(X_train)\n",
    "word_index = tokenizer.word_index\n",
    "print(word_index)"
   ]
  },
  {
   "cell_type": "markdown",
   "id": "aa116991",
   "metadata": {},
   "source": [
    "# B3, Padding process\n",
    "\n",
    "The code below was utilized for the padding process of the analysis. This is done to preserve the shape of the tensor dimensions and ensure that the sentences and inputs were the same length. As determiend above, the maximum review length was 16, thus by completing the padding process, all inputs had to be padded to be of that size, whether or not there were actually 16 words within the specicific review. The data was previously split into the training, testing and validation sets and were subsequently tokenized-by-index. After that, pst padding was used, which means that the padding occurs after the text sequence. See below for the code related to the padding process as well as an example of what a padded sequence looks like within the training, testing and validation sets. "
   ]
  },
  {
   "cell_type": "code",
   "execution_count": 16,
   "id": "f9d5cb84",
   "metadata": {},
   "outputs": [],
   "source": [
    "sequence_train = tokenizer.texts_to_sequences(X_train)\n",
    "padded_train = pad_sequences(sequence_train, maxlen = review_max, padding='post', truncating = 'post')"
   ]
  },
  {
   "cell_type": "code",
   "execution_count": 17,
   "id": "0a12b1d1",
   "metadata": {},
   "outputs": [],
   "source": [
    "sequence_test = tokenizer.texts_to_sequences(X_test)\n",
    "padded_test = pad_sequences(sequence_test, maxlen=review_max, padding='post', truncating='post')"
   ]
  },
  {
   "cell_type": "code",
   "execution_count": 18,
   "id": "dc313d08",
   "metadata": {},
   "outputs": [],
   "source": [
    "sequence_val = tokenizer.texts_to_sequences(X_val)\n",
    "padded_val = pad_sequences(sequence_val, maxlen=review_max, padding='post', truncating='post')"
   ]
  },
  {
   "cell_type": "code",
   "execution_count": 19,
   "id": "f3e6c1c7",
   "metadata": {},
   "outputs": [
    {
     "data": {
      "text/plain": [
       "array([146,   9,   4,  17,  38,   0,   0,   0,   0,   0,   0,   0,   0,\n",
       "         0,   0,   0])"
      ]
     },
     "execution_count": 19,
     "metadata": {},
     "output_type": "execute_result"
    }
   ],
   "source": [
    "padded_train[0]"
   ]
  },
  {
   "cell_type": "code",
   "execution_count": 20,
   "id": "2fa97cb6",
   "metadata": {},
   "outputs": [
    {
     "data": {
      "text/plain": [
       "array([   2, 1463,  119,    1,  855,    0,    0,    0,    0,    0,    0,\n",
       "          0,    0,    0,    0,    0])"
      ]
     },
     "execution_count": 20,
     "metadata": {},
     "output_type": "execute_result"
    }
   ],
   "source": [
    "padded_test[0]"
   ]
  },
  {
   "cell_type": "code",
   "execution_count": 21,
   "id": "84e63546",
   "metadata": {},
   "outputs": [
    {
     "data": {
      "text/plain": [
       "array([487,   1,   1,  16, 342,  74,   0,   0,   0,   0,   0,   0,   0,\n",
       "         0,   0,   0])"
      ]
     },
     "execution_count": 21,
     "metadata": {},
     "output_type": "execute_result"
    }
   ],
   "source": [
    "padded_val[0]"
   ]
  },
  {
   "cell_type": "markdown",
   "id": "8c8b3a2e",
   "metadata": {},
   "source": [
    "# B4, Categories of Sentiment\n",
    "\n",
    "Within the data, there are only two categories of sentiment that exist, positive or negative, labeled in the dataset as a 1 for positive and a 0 for negative. The activiation function for the final dense layer of the network will be a sigmoid function. "
   ]
  },
  {
   "cell_type": "markdown",
   "id": "9f862225",
   "metadata": {},
   "source": [
    "# B5, Steps to prepare the data\n",
    "\n",
    "1. Import the necessary packages for the sentiment analysis\n",
    "2. Load/read in the \"amazon_cells_labeled\" text file\n",
    "3. Lower case the text, remove unusual characters, non-english characters, etc. \n",
    "4. Remove stopwords from the data set. \n",
    "5. Split the data into the training, testing and validation sets. It was determined, based on industry average, to split the data 80/10/10. 80% of the data went to the training dataset, 10% to both the testing and validation dataset. (Train test validation split: How to & best practices [2023], n.d)\n",
    "6. Determine the vocabulary size of the data set\n",
    "7. Determine the word embedding length of the data set\n",
    "8. Determine the maximum review length\n",
    "9. Tokenize the data\n",
    "10. Pad the sequences \n",
    "11. Determine the number of categories of sentiment and the activation function that will be used for the final dense layer of the network"
   ]
  },
  {
   "cell_type": "markdown",
   "id": "94c97570",
   "metadata": {},
   "source": [
    "# B6, prepared data set\n",
    "\n",
    "See below for code of the prepared data set. CSV file uploaded separately"
   ]
  },
  {
   "cell_type": "code",
   "execution_count": 22,
   "id": "c96aaeea",
   "metadata": {},
   "outputs": [],
   "source": [
    "df.to_csv('JTompkins_task2_clean.csv')"
   ]
  },
  {
   "cell_type": "markdown",
   "id": "3867aa78",
   "metadata": {},
   "source": [
    "# C1, Model Summary"
   ]
  },
  {
   "cell_type": "code",
   "execution_count": 23,
   "id": "d53b4bde",
   "metadata": {},
   "outputs": [
    {
     "name": "stdout",
     "output_type": "stream",
     "text": [
      "Model: \"sequential\"\n",
      "_________________________________________________________________\n",
      " Layer (type)                Output Shape              Param #   \n",
      "=================================================================\n",
      " embedding (Embedding)       (None, 16, 6)             9210      \n",
      "                                                                 \n",
      " flatten (Flatten)           (None, 96)                0         \n",
      "                                                                 \n",
      " dense (Dense)               (None, 64)                6208      \n",
      "                                                                 \n",
      " dense_1 (Dense)             (None, 32)                2080      \n",
      "                                                                 \n",
      " dense_2 (Dense)             (None, 1)                 33        \n",
      "                                                                 \n",
      "=================================================================\n",
      "Total params: 17531 (68.48 KB)\n",
      "Trainable params: 17531 (68.48 KB)\n",
      "Non-trainable params: 0 (0.00 Byte)\n",
      "_________________________________________________________________\n",
      "None\n"
     ]
    }
   ],
   "source": [
    "model = Sequential()\n",
    "model.add(Embedding(vocab_size, max_sequence_embedding, input_length = review_max))\n",
    "model.add(Flatten())\n",
    "model.add(Dense(64, activation =  \"relu\"))\n",
    "model.add(Dense(32, activation = \"relu\"))\n",
    "model.add(Dense(1, activation = \"sigmoid\"))\n",
    "model.compile(optimizer = 'adam', loss = 'binary_crossentropy', metrics=['accuracy'])\n",
    "print(model.summary())"
   ]
  },
  {
   "cell_type": "markdown",
   "id": "16a00fde",
   "metadata": {},
   "source": [
    "# C2, Network Architecture\n",
    "\n",
    "The model created had 5 layers and was a sequential model. The first layer is an Embedding layer used to reduce the dimensions. It has 9,210 parameters. This parameter is determined by taking the vocabulary size of 1,535 and multiplying it by the embedding length of 6. The next layers is a Flatten layer that was used to flatten the inputs into one single dimension from multiple dimensions. This layer had zero parameters. The third layer was a Dense layer which consisted of 64 nodes using the ReLu activation function. The total parameters for this is 6,208. The next layer was another Dense layer, this time with 32 nodes and 2,080 parameters. Finally, the last layer was a final Dense layer that only had one node. This one used the sigmoid activiation function and had 33 parameters. "
   ]
  },
  {
   "cell_type": "markdown",
   "id": "338ba65e",
   "metadata": {},
   "source": [
    "# C3, Hyperparameter Justifications\n",
    "\n",
    "The activiation funcitons that were used throughout the Dense layers of the models were the ReLu (Rectified Linear Unit) and the sigmoid activiation functions. ReLu was used for the first 2 Dense layers as this function is typically used for most analysis. The sigmoid function was used due to the result being a binary result of 0 or 1. \n",
    "\n",
    "The number of nodes for the embedding layer was 6 which is the size of the layer's output. The Dense layers have 64, 32 and 1 node respectively. These are \"hidden\" and help bring the original input of the review down to the single output of 1 or 0. \n",
    "\n",
    "A binary cross entropy loss function was used for the model as well. The reason being is that the model is related to a classification problem. The results are restricted to 1 or 0 thus calling for a binary cross entropy loss function to be used. \n",
    "\n",
    "\"Adam\" was used for the optimizer due to it being a high performing and efficient optimizer, as well as the optimizer that is typically used for this type of analysis. \n",
    "\n",
    "Down below is the code for the stopping criteria of the analysis. EarlyStopping was called, which monitors the validation accuracy score and stops it in the event that the validation accuracy doesn't increase after the determined 2 epochs (indicated py the patience). \n",
    "\n",
    "The accuracy was the evaluation metric. We are looking at increasing the models accuracy with the model being fitted to training data. As the model is trying to become more accurate, we have the stopping criteria looking at validation accuracy to avoid any issues with performance on the validation set. "
   ]
  },
  {
   "cell_type": "code",
   "execution_count": 24,
   "id": "9b125915",
   "metadata": {},
   "outputs": [
    {
     "name": "stdout",
     "output_type": "stream",
     "text": [
      "Epoch 1/15\n",
      "25/25 [==============================] - 1s 10ms/step - loss: 0.6933 - accuracy: 0.4963 - val_loss: 0.6931 - val_accuracy: 0.5400\n",
      "Epoch 2/15\n",
      "25/25 [==============================] - 0s 3ms/step - loss: 0.6852 - accuracy: 0.6050 - val_loss: 0.6886 - val_accuracy: 0.5500\n",
      "Epoch 3/15\n",
      "25/25 [==============================] - 0s 3ms/step - loss: 0.6602 - accuracy: 0.7638 - val_loss: 0.6704 - val_accuracy: 0.6500\n",
      "Epoch 4/15\n",
      "25/25 [==============================] - 0s 3ms/step - loss: 0.5713 - accuracy: 0.9025 - val_loss: 0.6148 - val_accuracy: 0.6500\n",
      "Epoch 5/15\n",
      "25/25 [==============================] - 0s 3ms/step - loss: 0.3735 - accuracy: 0.9438 - val_loss: 0.5258 - val_accuracy: 0.7200\n",
      "Epoch 6/15\n",
      "25/25 [==============================] - 0s 3ms/step - loss: 0.1797 - accuracy: 0.9688 - val_loss: 0.4968 - val_accuracy: 0.7300\n",
      "Epoch 7/15\n",
      "25/25 [==============================] - 0s 3ms/step - loss: 0.0895 - accuracy: 0.9812 - val_loss: 0.5760 - val_accuracy: 0.7900\n",
      "Epoch 8/15\n",
      "25/25 [==============================] - 0s 3ms/step - loss: 0.0543 - accuracy: 0.9875 - val_loss: 0.6860 - val_accuracy: 0.7600\n"
     ]
    }
   ],
   "source": [
    "early_stopping_monitor = EarlyStopping(patience = 2)\n",
    "history = model.fit(padded_train, y_train, validation_data = (padded_val, y_val), epochs = 15, callbacks=early_stopping_monitor)"
   ]
  },
  {
   "cell_type": "markdown",
   "id": "ab373d19",
   "metadata": {},
   "source": [
    "# D1, Stopping Criteria\n",
    "\n",
    "As stated above, the stopping criteria was monitoring the validation accuracy score, and would stop after the score does not increase for 2 epochs. Above is the training model that shows the model quit training after 8 epochs. The early stopper came into play because after epoch 6 (so for epoch 7 & 8), the val_accuracy was not improving for 2 consecutive epochs. If it had been improving, the model would have kept training and done so until the accurayc either stopped improving after 2 epochs, or reached a maximum of 15 epochs. You can see that the final epoch, epoch 8 has the highest accuracy of all of them. "
   ]
  },
  {
   "cell_type": "code",
   "execution_count": 25,
   "id": "66645a1f",
   "metadata": {},
   "outputs": [
    {
     "name": "stdout",
     "output_type": "stream",
     "text": [
      "4/4 [==============================] - 0s 2ms/step - loss: 0.6647 - accuracy: 0.7300\n"
     ]
    },
    {
     "data": {
      "text/plain": [
       "[0.6646946668624878, 0.7300000190734863]"
      ]
     },
     "execution_count": 25,
     "metadata": {},
     "output_type": "execute_result"
    }
   ],
   "source": [
    "model.evaluate(padded_test, y_test)"
   ]
  },
  {
   "cell_type": "markdown",
   "id": "7fb83270",
   "metadata": {},
   "source": [
    "# D2, Fittness\n",
    "\n",
    "The code provided above is looking at the fittness of the model and the accuracy scores for it. The accuracy score is 0.80 which indicates that the model fits the test data very well. It has a loss score of 0.47, however, and this could indicate potential overfitting. To avoid overfitting, the EarlyStopping() function was used to make sure that the model prioritized validation accuracy rather than continuing to train on itself and thus rasining the training accuracy. We wanted to make sure that the model didn't learn the training dataset too well which is why the early stopper was created. "
   ]
  },
  {
   "cell_type": "markdown",
   "id": "7c0f042b",
   "metadata": {},
   "source": [
    "# D3, Training Process\n",
    "\n",
    "Below are two line graphs showing the accuracy of the Training model across the epochs as well as the loss of the training model across the epochs. One can see that the training accuracy increases across both models. As the epochs increase, the training set continues to increase in accuracy, which can be indicative of overfitting since the validation accuracy begins to not increase before the early stopper created is called to end the model.  "
   ]
  },
  {
   "cell_type": "code",
   "execution_count": 26,
   "id": "b63eda8a",
   "metadata": {
    "scrolled": true
   },
   "outputs": [
    {
     "data": {
      "image/png": "[encoded data removed]",
      "text/plain": [
       "<Figure size 640x480 with 1 Axes>"
      ]
     },
     "metadata": {},
     "output_type": "display_data"
    }
   ],
   "source": [
    "plt.plot(history.history['accuracy'], label = \"Accuracy (training)\")\n",
    "plt.plot(history.history['val_accuracy'], label = \"Accuracy (validation)\")\n",
    "plt.xlabel(\"Epochs\")\n",
    "plt.ylabel(\"Accuracy of model\")\n",
    "plt.legend()\n",
    "plt.title(\"Accuracy of Training Model across epochs\")\n",
    "plt.show()"
   ]
  },
  {
   "cell_type": "code",
   "execution_count": 27,
   "id": "50f6ec47",
   "metadata": {},
   "outputs": [
    {
     "data": {
      "image/png": "[encoded data removed]",
      "text/plain": [
       "<Figure size 640x480 with 1 Axes>"
      ]
     },
     "metadata": {},
     "output_type": "display_data"
    }
   ],
   "source": [
    "plt.plot(history.history['loss'], label = \"Loss (training)\")\n",
    "plt.plot(history.history['val_loss'], label = \"Loss (validation)\")\n",
    "plt.xlabel(\"Epochs\")\n",
    "plt.ylabel(\"Loss of model\")\n",
    "plt.legend()\n",
    "plt.title(\"Loss of Training Model across epochs\")\n",
    "plt.show()"
   ]
  },
  {
   "cell_type": "code",
   "execution_count": 28,
   "id": "ac8b3c58",
   "metadata": {},
   "outputs": [
    {
     "name": "stdout",
     "output_type": "stream",
     "text": [
      "4/4 [==============================] - 0s 2ms/step\n"
     ]
    }
   ],
   "source": [
    "y_pred = model.predict(padded_test)"
   ]
  },
  {
   "cell_type": "code",
   "execution_count": 29,
   "id": "e956cd94",
   "metadata": {},
   "outputs": [
    {
     "name": "stdout",
     "output_type": "stream",
     "text": [
      "4/4 [==============================] - 0s 2ms/step - loss: 0.6647 - accuracy: 0.7300\n",
      "Test Loss:  0.6646946668624878\n",
      "Test accuracy:  0.7300000190734863\n"
     ]
    }
   ],
   "source": [
    "model_score = model.evaluate(padded_test, y_test)\n",
    "print('Test Loss: ', model_score[0])\n",
    "print('Test accuracy: ', model_score[1])"
   ]
  },
  {
   "cell_type": "markdown",
   "id": "451fe7a9",
   "metadata": {},
   "source": [
    "# D4, Predictive Accuracy\n",
    "\n",
    "The code provided above, which was also provided in section D2, shows the models accuracy. The model has an accuracy of 80%, indicating that the model fits the data well and does a does a good job with predictions. "
   ]
  },
  {
   "cell_type": "markdown",
   "id": "7df4d375",
   "metadata": {},
   "source": [
    "# E, Code\n",
    "\n",
    "The provided below was used to save the model within the neural network"
   ]
  },
  {
   "cell_type": "code",
   "execution_count": 30,
   "id": "d3469f16",
   "metadata": {},
   "outputs": [
    {
     "name": "stderr",
     "output_type": "stream",
     "text": [
      "C:\\Users\\jorda\\anaconda3\\lib\\site-packages\\keras\\src\\engine\\training.py:3000: UserWarning: You are saving your model as an HDF5 file via `model.save()`. This file format is considered legacy. We recommend using instead the native Keras format, e.g. `model.save('my_model.keras')`.\n",
      "  saving_api.save_model(\n"
     ]
    }
   ],
   "source": [
    "model.save('JTompkins_Task2Model.h5')\n"
   ]
  },
  {
   "cell_type": "markdown",
   "id": "5822c48f",
   "metadata": {},
   "source": [
    "# F, Functionality\n",
    "\n",
    "The neural network that was created is moderately effective at the performance of sentiment analysis. There was an 80% accuracy score on the test set, with a little higher loss value at around 47%. It would be better if it was a slightly lower, however, it isn't too bad. There is always room for improvement, however, this is a good model to begin with. \n",
    "\n",
    "The network architecture is a basic, yet effective and efficient architecture. It relied heavily on the Dense layers, but was able to complete a model that had a relatively good accuracy score as well as a model that was time efficient and can perform rather quickly. "
   ]
  },
  {
   "cell_type": "markdown",
   "id": "11cedf5e",
   "metadata": {},
   "source": [
    "# G, Recommendations:\n",
    "\n",
    "The neural network that was created can effectively predict the sentiment of the reviews from the Amazon text file provided to us. While the model isn't 100% accurate, it does have a fairly high accuracy. An organization could confidently use this neural network as either an main neural network, or they can even use it as an initial model and continue to improve it as time goes on they have more data that can help with the training of it. "
   ]
  },
  {
   "cell_type": "markdown",
   "id": "da80efd6",
   "metadata": {},
   "source": [
    "# H, Reporting\n",
    "\n",
    "This analysis was created using Jupyter Notebook and has been uploaded along side a PDF copy of the executed code "
   ]
  },
  {
   "cell_type": "markdown",
   "id": "51859379",
   "metadata": {},
   "source": [
    "# I, Sources for third-party code\n",
    "\n",
    "There was no third-party code used for this analysis"
   ]
  },
  {
   "cell_type": "markdown",
   "id": "7472c8d3",
   "metadata": {},
   "source": [
    "# J, Sources:\n",
    "\n",
    "Awan, A. A. (2023, September 22). What is tokenization? types, use cases, implementation. DataCamp. https://www.datacamp.com/blog/what-is-tokenization \n",
    "\n",
    "Train test validation split: How to &amp; best practices [2023]. V7. (n.d.). https://www.v7labs.com/blog/train-validation-test-set#:~:text=In%20general%2C%20putting%2080%25%20of,good%20split%20to%20start%20with. \n",
    "\n",
    "What are recurrent neural networks?. IBM. (n.d.). https://www.ibm.com/topics/recurrent-neural-networks "
   ]
  },
  {
   "cell_type": "code",
   "execution_count": null,
   "id": "bcaf159a",
   "metadata": {},
   "outputs": [],
   "source": []
  }
 ],
 "metadata": {
  "kernelspec": {
   "display_name": "Python 3 (ipykernel)",
   "language": "python",
   "name": "python3"
  },
  "language_info": {
   "codemirror_mode": {
    "name": "ipython",
    "version": 3
   },
   "file_extension": ".py",
   "mimetype": "text/x-python",
   "name": "python",
   "nbconvert_exporter": "python",
   "pygments_lexer": "ipython3",
   "version": "3.9.13"
  }
 },
 "nbformat": 4,
 "nbformat_minor": 5
}
